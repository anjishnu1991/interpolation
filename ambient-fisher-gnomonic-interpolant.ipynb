{
 "cells": [
  {
   "cell_type": "code",
   "execution_count": 58,
   "metadata": {
    "collapsed": true
   },
   "outputs": [],
   "source": [
    "## Ambient Fisher Gnomonic Interpolant"
   ]
  },
  {
   "cell_type": "markdown",
   "metadata": {},
   "source": [
    "by Kyle Cranmer, Jan 12, 2014, BSD license\n",
    "\n",
    "based on notes and discussion with Jeff Streets at UCI.\n",
    "\n",
    "<img src=\"files/gnome-fishing.jpg\" alt=\"Gnome Fisher\" width=\"20%\"><img src=\"files/gnome-mesh.jpg\" alt=\"Gnome Mesh\" width=\"20%\">\n",
    "<!--\n",
    "![Gnome Fisher](files/gnome-fishing.jpg)![gnome mesh](files/gnome-mesh.jpg)\n",
    "-->"
   ]
  },
  {
   "cell_type": "code",
   "execution_count": 59,
   "metadata": {
    "collapsed": false
   },
   "outputs": [],
   "source": [
    "%matplotlib inline"
   ]
  },
  {
   "cell_type": "code",
   "execution_count": 60,
   "metadata": {
    "collapsed": false
   },
   "outputs": [],
   "source": [
    "import numpy as np\n",
    "import numpy.linalg as linalg\n",
    "import matplotlib as mpl\n",
    "import matplotlib.pyplot as plt\n",
    "from sklearn import manifold\n",
    "from mpl_toolkits.mplot3d import Axes3D\n",
    "from scipy.optimize import minimize\n",
    "import scipy.optimize\n",
    "from math import sqrt\n",
    "from scipy.spatial import Delaunay"
   ]
  },
  {
   "cell_type": "markdown",
   "metadata": {},
   "source": [
    "## Create pairs of (parameter, distribution)"
   ]
  },
  {
   "cell_type": "code",
   "execution_count": 61,
   "metadata": {
    "collapsed": false
   },
   "outputs": [],
   "source": [
    "#parameter points\n",
    "alphas = np.array([[0,0],[1,0],[0,1]])\n",
    "\n",
    "# dim = 1+#dim parameters = dim of embedding\n",
    "dim = 3 \n",
    "# for starters, define a parametrized family of functions explicitly and draw from it\n",
    "f = lambda alpha: lambda x : np.exp(-0.5*(x-alpha[0])**2 / (0.5*alpha[1]+1)**2)/np.sqrt(2*np.pi) / (0.5*alpha[1]+1)\n",
    "dists = []\n",
    "for alpha in alphas:\n",
    "    dists.append( f(alpha) )"
   ]
  },
  {
   "cell_type": "markdown",
   "metadata": {},
   "source": [
    "## Calculate pair-wise chord distances, embed on n-sphere, & rotate first to south pole"
   ]
  },
  {
   "cell_type": "markdown",
   "metadata": {},
   "source": [
    "It's going to be easier to work in the space of the sqrt of distributions, so let's define a simple transformation q "
   ]
  },
  {
   "cell_type": "code",
   "execution_count": 62,
   "metadata": {
    "collapsed": false
   },
   "outputs": [],
   "source": [
    "q = lambda h: (lambda x: np.sqrt(h(x)))"
   ]
  },
  {
   "cell_type": "code",
   "execution_count": 63,
   "metadata": {
    "collapsed": true
   },
   "outputs": [],
   "source": [
    "def inner_product(q1,q2, xmin=-7, xmax=7):\n",
    "    # this is a simple numeric integration\n",
    "    num = 10000.\n",
    "    xarray = np.linspace(xmin,xmax,num)\n",
    "    return np.sum(q1(xarray) * q2(xarray))*(xmax-xmin)/num"
   ]
  },
  {
   "cell_type": "code",
   "execution_count": 64,
   "metadata": {
    "collapsed": false
   },
   "outputs": [
    {
     "data": {
      "text/plain": [
       "(0.99989999999745338, 0.99989999901776028, 0.99989694599725443)"
      ]
     },
     "execution_count": 64,
     "metadata": {},
     "output_type": "execute_result"
    }
   ],
   "source": [
    "(inner_product(q(dists[0]),q(dists[0])), inner_product(q(dists[1]),q(dists[1])),inner_product(q(dists[2]),q(dists[2])))"
   ]
  },
  {
   "cell_type": "markdown",
   "metadata": {},
   "source": [
    "## Create pairs of (parameter simplex, Gnomonic simplex)"
   ]
  },
  {
   "cell_type": "code",
   "execution_count": 65,
   "metadata": {
    "collapsed": false
   },
   "outputs": [],
   "source": [
    "def getChordDistance(q1,q2):\n",
    "    return 2.*np.sin( np.arccos( inner_product(q1, q2) ) /2. )"
   ]
  },
  {
   "cell_type": "code",
   "execution_count": 66,
   "metadata": {
    "collapsed": false
   },
   "outputs": [
    {
     "data": {
      "text/plain": [
       "array([[ 0.01414214,  0.48495638,  0.28045376],\n",
       "       [ 0.48495638,  0.01414221,  0.4700093 ],\n",
       "       [ 0.28045376,  0.4700093 ,  0.01435646]])"
      ]
     },
     "execution_count": 66,
     "metadata": {},
     "output_type": "execute_result"
    }
   ],
   "source": [
    "tempSim=[]\n",
    "for f1 in dists:\n",
    "    temp = []\n",
    "    for f2 in dists:\n",
    "        temp.append(getChordDistance(q(f1),q(f2)))\n",
    "    tempSim.append(temp)\n",
    "chordDistMatrix=np.array(tempSim)\n",
    "chordDistMatrix #diagonals should be close to 0"
   ]
  },
  {
   "cell_type": "code",
   "execution_count": 67,
   "metadata": {
    "collapsed": false
   },
   "outputs": [
    {
     "data": {
      "text/plain": [
       "array([[ 0.        ,  0.        , -1.        ],\n",
       "       [ 0.        , -0.47048376, -0.88240865],\n",
       "       [-0.26305768, -0.08892889, -0.96067284]])"
      ]
     },
     "execution_count": 67,
     "metadata": {},
     "output_type": "execute_result"
    }
   ],
   "source": [
    "## Embeding functions onto n-sphere\n",
    "n=dim-1\n",
    "embeded=np.zeros(shape=(dim,dim))\n",
    "embeded[0]=[0,0,-1]\n",
    "a=np.array([[-1], [2,3]], dtype=object)\n",
    "\n",
    "for k in range(1,dim):\n",
    "    y=np.empty([k,k])\n",
    "    z=np.zeros(k)\n",
    "    for j in range(0,k):\n",
    "        z[j]=1-(chordDistMatrix[j][k]**2)*0.5\n",
    "        y[j]=np.delete(embeded[j],np.arange(n+1-k))\n",
    "    x = np.linalg.solve(y,z)\n",
    "    x_0k=-sqrt(1-np.sum(x**2)) #negative sign to keep it totally in southern hemisphere\n",
    "    a=np.append(x_0k,x)\n",
    "    embeded[k]=np.append(np.zeros(n-k),a)\n",
    "embeded"
   ]
  },
  {
   "cell_type": "code",
   "execution_count": 68,
   "metadata": {
    "collapsed": false
   },
   "outputs": [],
   "source": [
    "pointsOnSphere = embeded.copy()"
   ]
  },
  {
   "cell_type": "code",
   "execution_count": 69,
   "metadata": {
    "collapsed": false
   },
   "outputs": [],
   "source": [
    "gnomonicProjection = pointsOnSphere.copy()\n",
    "for i, point in enumerate(pointsOnSphere):\n",
    "    gnomonicProjection[i] = -1.*point/point[-1]"
   ]
  },
  {
   "cell_type": "code",
   "execution_count": 70,
   "metadata": {
    "collapsed": false
   },
   "outputs": [],
   "source": [
    "nSamples = 15 #samples along ray for visualization\n",
    "rays = np.zeros((3*nSamples,dim))\n",
    "for i, point in enumerate(gnomonicProjection):\n",
    "    for j, c in enumerate(np.linspace(0,1,nSamples)):\n",
    "        rays[i*nSamples+j] = c * point"
   ]
  },
  {
   "cell_type": "code",
   "execution_count": 71,
   "metadata": {
    "collapsed": false
   },
   "outputs": [
    {
     "data": {
      "image/png": "[encoded data removed]",
      "text/plain": [
       "<matplotlib.figure.Figure at 0x7ff2824f1ed0>"
      ]
     },
     "metadata": {},
     "output_type": "display_data"
    }
   ],
   "source": [
    "fig = plt.figure(figsize=(5,5))\n",
    "subpl = fig.add_subplot(111,projection='3d')\n",
    "subpl.scatter(rays[:, 0], rays[:, 1], rays[:, 2],marker='.',c=pointsOnSphere[:,0]*0+.01)\n",
    "subpl.scatter(pointsOnSphere[:, 0], pointsOnSphere[:, 1],pointsOnSphere[:, 2],\n",
    "              marker='o',c=-pointsOnSphere[:,2])#,cmap=mpl.cm.gray)\n",
    "subpl.scatter(gnomonicProjection[:, 0], gnomonicProjection[:, 1], gnomonicProjection[:, 2],\n",
    "              c=-pointsOnSphere[:,2])#,cmap=mpl.cm.gray)\n",
    "plt.show()"
   ]
  },
  {
   "cell_type": "code",
   "execution_count": 72,
   "metadata": {
    "collapsed": false
   },
   "outputs": [],
   "source": [
    "alphaSimplex = Delaunay(alphas)\n",
    "gnomonicSimplex = Delaunay(gnomonicProjection[:3,:2])"
   ]
  },
  {
   "cell_type": "code",
   "execution_count": 73,
   "metadata": {
    "collapsed": false
   },
   "outputs": [],
   "source": [
    "normedVertices = gnomonicProjection[:3,:2].copy()\n",
    "normedVertices[1] /= linalg.norm(normedVertices[1])\n",
    "normedVertices[2] /= linalg.norm(normedVertices[2])\n",
    "normedSimplex = Delaunay(normedVertices)"
   ]
  },
  {
   "cell_type": "code",
   "execution_count": 74,
   "metadata": {
    "collapsed": false
   },
   "outputs": [
    {
     "data": {
      "text/plain": [
       "(0.88240865285903869, 0.96067284335362202, 0.88954562783004798)"
      ]
     },
     "execution_count": 74,
     "metadata": {},
     "output_type": "execute_result"
    }
   ],
   "source": [
    "inner_product(q(dists[0]),q(dists[1])),inner_product(q(dists[0]),q(dists[2])),inner_product(q(dists[1]),q(dists[2]))"
   ]
  },
  {
   "cell_type": "code",
   "execution_count": 75,
   "metadata": {
    "collapsed": false
   },
   "outputs": [
    {
     "data": {
      "text/plain": [
       "(0.88240865285903869, 0.96067284335362202, 0.88954562783004798)"
      ]
     },
     "execution_count": 75,
     "metadata": {},
     "output_type": "execute_result"
    }
   ],
   "source": [
    "pointsOnSphere[0].dot(pointsOnSphere[1]),pointsOnSphere[0].dot(pointsOnSphere[2]),pointsOnSphere[1].dot(pointsOnSphere[2])"
   ]
  },
  {
   "cell_type": "markdown",
   "metadata": {},
   "source": [
    "## Create Interpolant"
   ]
  },
  {
   "cell_type": "code",
   "execution_count": 76,
   "metadata": {
    "collapsed": false
   },
   "outputs": [
    {
     "data": {
      "text/plain": [
       "(array([[ 0.        , -0.53318126, -1.        ],\n",
       "        [-0.27382649, -0.09256938, -1.        ]]),\n",
       " array([ 0.21906119, -0.08589888]))"
      ]
     },
     "execution_count": 76,
     "metadata": {},
     "output_type": "execute_result"
    }
   ],
   "source": [
    "alpha1 = np.array([0.9,0.0]) #for testing\n",
    "alpha2 = np.array([0.0,.9]) #for testing\n",
    "alpha = alpha2 #switch for testing\n",
    "alpha = np.array([0.5,0.3])\n",
    "baryCoords = alphaSimplex.transform[0,:dim-1,:].dot(alpha)\n",
    "gnomonicTarget = linalg.inv(gnomonicSimplex.transform[0,:dim-1,:]).dot(baryCoords)\n",
    "normedBaryCoords = normedSimplex.transform[0,:dim-1,:].dot(gnomonicTarget)\n",
    "t = np.arctan(linalg.norm(gnomonicTarget))\n",
    "t, normedBaryCoords, linalg.norm(gnomonicTarget), linalg.norm(gnomonicProjection[1,:2]), linalg.norm(gnomonicProjection[2,:2])\n",
    "gnomonicProjection[1:], gnomonicTarget"
   ]
  },
  {
   "cell_type": "code",
   "execution_count": 77,
   "metadata": {
    "collapsed": false
   },
   "outputs": [
    {
     "name": "stdout",
     "output_type": "stream",
     "text": [
      "0.000280751884478 1.0\n"
     ]
    },
    {
     "data": {
      "text/plain": [
       "(0.23124110486386215, 1.000030437042255)"
      ]
     },
     "execution_count": 77,
     "metadata": {},
     "output_type": "execute_result"
    }
   ],
   "source": [
    "dot01 = inner_product(q(dists[0]),q(dists[1]))\n",
    "dot02 = inner_product(q(dists[0]),q(dists[2]))\n",
    "t1 = lambda x: q(dists[1])(x) - dot01*q(dists[0])(x)\n",
    "t2 = lambda x: q(dists[2])(x) - dot02*q(dists[0])(x)\n",
    "norm1 = inner_product(t1,t1)\n",
    "norm2 = inner_product(t2,t2)\n",
    "u1 = lambda x: t1(x)/np.sqrt(norm1)\n",
    "u2 = lambda x: t2(x)/np.sqrt(norm2)\n",
    "#unnorm_tan = lambda x: u1(x)*normedBaryCoords[1] + u2(x)*normedBaryCoords[0]\n",
    "unnorm_tan = lambda x: u1(x)*normedBaryCoords[0]+u2(x)*normedBaryCoords[1]\n",
    "norm_tan = inner_product(unnorm_tan,unnorm_tan)\n",
    "tangent = lambda x: unnorm_tan(x) / np.sqrt(norm_tan)\n",
    "#tangent = lambda x: (u1(x)*normedBaryCoords[1] + u2(x)*normedBaryCoords[0])/np.sqrt(norm_tan)\n",
    "#tangent = lambda x: (u1(x)*normedBaryCoords[0] + u2(x)*normedBaryCoords[1])/np.sqrt(norm_tan)\n",
    "print inner_product(q(dists[0]),tangent), inner_product(tangent,tangent)\n",
    "q_interpolant = lambda x: np.cos(t)*q(dists[0])(x) + np.sin(t)*tangent(x) \n",
    "interpolant = lambda x: ( np.cos(t)*q(dists[0])(x) + np.sin(t)*tangent(x) )**2\n",
    "#interpolant = lambda x: (q_interpolant(x)*q_interpolant(x))\n",
    "#interpolant = lambda x: ( np.cos(t)*q(dists[0])(x) + np.sin(t)*u1(x) )**2\n",
    "np.arccos(inner_product(q(interpolant),q(dists[0]))),inner_product(q(interpolant),q(interpolant))"
   ]
  },
  {
   "cell_type": "code",
   "execution_count": 78,
   "metadata": {
    "collapsed": false
   },
   "outputs": [
    {
     "data": {
      "text/plain": [
       "(0.28138111338199129, 0.23109691282279765, 0.48983892578549054)"
      ]
     },
     "execution_count": 78,
     "metadata": {},
     "output_type": "execute_result"
    }
   ],
   "source": [
    "np.arccos(dot02), t, np.arccos(dot01)"
   ]
  },
  {
   "cell_type": "code",
   "execution_count": 79,
   "metadata": {
    "collapsed": false
   },
   "outputs": [
    {
     "data": {
      "text/plain": [
       "[<matplotlib.lines.Line2D at 0x7ff282153c50>]"
      ]
     },
     "execution_count": 79,
     "metadata": {},
     "output_type": "execute_result"
    },
    {
     "data": {
      "image/png": "[encoded data removed]",
      "text/plain": [
       "<matplotlib.figure.Figure at 0x7ff28223d6d0>"
      ]
     },
     "metadata": {},
     "output_type": "display_data"
    }
   ],
   "source": [
    "xarray = np.linspace(-5,5,100)\n",
    "plt.plot(xarray,dists[0](xarray),c='black')\n",
    "plt.plot(xarray,dists[1](xarray),c='r')\n",
    "plt.plot(xarray,dists[2](xarray),c='g')\n",
    "plt.plot(xarray,interpolant(xarray),c='b',ls='dashed')"
   ]
  },
  {
   "cell_type": "code",
   "execution_count": 80,
   "metadata": {
    "collapsed": false
   },
   "outputs": [
    {
     "data": {
      "text/plain": [
       "[<matplotlib.lines.Line2D at 0x7ff281ef0e10>]"
      ]
     },
     "execution_count": 80,
     "metadata": {},
     "output_type": "execute_result"
    },
    {
     "data": {
      "image/png": "[encoded data removed]",
      "text/plain": [
       "<matplotlib.figure.Figure at 0x7ff2823e3690>"
      ]
     },
     "metadata": {},
     "output_type": "display_data"
    }
   ],
   "source": [
    "plt.plot(xarray,u1(xarray),c='r')\n",
    "plt.plot(xarray,u2(xarray),c='g')\n",
    "#plt.plot(xarray,unnorm_tan(xarray),c='black')\n",
    "plt.plot(xarray,tangent(xarray),c='b',ls='dashed')"
   ]
  },
  {
   "cell_type": "markdown",
   "metadata": {},
   "source": [
    "## check if original points + interpolant work on embeded 2-sphere"
   ]
  },
  {
   "cell_type": "code",
   "execution_count": 81,
   "metadata": {
    "collapsed": false
   },
   "outputs": [
    {
     "ename": "NameError",
     "evalue": "name 'gnomonicTarget3d' is not defined",
     "output_type": "error",
     "traceback": [
      "\u001b[1;31m---------------------------------------------------------------------------\u001b[0m",
      "\u001b[1;31mNameError\u001b[0m                                 Traceback (most recent call last)",
      "\u001b[1;32m<ipython-input-81-dbf82e3ac859>\u001b[0m in \u001b[0;36m<module>\u001b[1;34m()\u001b[0m\n\u001b[1;32m----> 1\u001b[1;33m \u001b[0mtargetOnSphere\u001b[0m \u001b[1;33m=\u001b[0m \u001b[0mgnomonicTarget3d\u001b[0m\u001b[1;33m/\u001b[0m\u001b[0mlinalg\u001b[0m\u001b[1;33m.\u001b[0m\u001b[0mnorm\u001b[0m\u001b[1;33m(\u001b[0m\u001b[0mgnomonicTarget3d\u001b[0m\u001b[1;33m)\u001b[0m\u001b[1;33m\u001b[0m\u001b[0m\n\u001b[0m\u001b[0;32m      2\u001b[0m \u001b[0mtargetOnSphere\u001b[0m\u001b[1;33m.\u001b[0m\u001b[0mdot\u001b[0m\u001b[1;33m(\u001b[0m\u001b[0mpointsOnSphere\u001b[0m\u001b[1;33m[\u001b[0m\u001b[1;36m0\u001b[0m\u001b[1;33m]\u001b[0m\u001b[1;33m)\u001b[0m\u001b[1;33m,\u001b[0m \u001b[0mtargetOnSphere\u001b[0m\u001b[1;33m.\u001b[0m\u001b[0mdot\u001b[0m\u001b[1;33m(\u001b[0m\u001b[0mpointsOnSphere\u001b[0m\u001b[1;33m[\u001b[0m\u001b[1;36m1\u001b[0m\u001b[1;33m]\u001b[0m\u001b[1;33m)\u001b[0m\u001b[1;33m,\u001b[0m \u001b[0mtargetOnSphere\u001b[0m\u001b[1;33m.\u001b[0m\u001b[0mdot\u001b[0m\u001b[1;33m(\u001b[0m\u001b[0mpointsOnSphere\u001b[0m\u001b[1;33m[\u001b[0m\u001b[1;36m2\u001b[0m\u001b[1;33m]\u001b[0m\u001b[1;33m)\u001b[0m\u001b[1;33m\u001b[0m\u001b[0m\n",
      "\u001b[1;31mNameError\u001b[0m: name 'gnomonicTarget3d' is not defined"
     ]
    }
   ],
   "source": [
    "targetOnSphere = gnomonicTarget3d/linalg.norm(gnomonicTarget3d)\n",
    "targetOnSphere.dot(pointsOnSphere[0]), targetOnSphere.dot(pointsOnSphere[1]), targetOnSphere.dot(pointsOnSphere[2])"
   ]
  },
  {
   "cell_type": "code",
   "execution_count": 220,
   "metadata": {
    "collapsed": false
   },
   "outputs": [
    {
     "data": {
      "text/plain": [
       "(0.97338270117552661, 0.96004931887381895, 0.97512816672400293)"
      ]
     },
     "execution_count": 220,
     "metadata": {},
     "output_type": "execute_result"
    }
   ],
   "source": [
    "inner_product( q(dists[0]),q(interpolant)), inner_product( q(dists[1]),q(interpolant)), inner_product( q(dists[2]),q(interpolant) )"
   ]
  },
  {
   "cell_type": "markdown",
   "metadata": {},
   "source": [
    "Visualize ray pointing to the target"
   ]
  },
  {
   "cell_type": "code",
   "execution_count": 221,
   "metadata": {
    "collapsed": false
   },
   "outputs": [],
   "source": [
    "targetRays = np.zeros(15*3).reshape(15,3)\n",
    "gnomonicTarget3d = np.zeros(3)\n",
    "gnomonicTarget3d[:2] = gnomonicTarget\n",
    "gnomonicTarget3d[2]=-1\n",
    "for i,l in enumerate(np.linspace(0,1,15)):\n",
    "    targetRays[i] = l*gnomonicTarget3d"
   ]
  }
 ],
 "metadata": {
  "kernelspec": {
   "display_name": "Python 2",
   "language": "python",
   "name": "python2"
  },
  "language_info": {
   "codemirror_mode": {
    "name": "ipython",
    "version": 2
   },
   "file_extension": ".py",
   "mimetype": "text/x-python",
   "name": "python",
   "nbconvert_exporter": "python",
   "pygments_lexer": "ipython2",
   "version": "2.7.6"
  }
 },
 "nbformat": 4,
 "nbformat_minor": 0
}
